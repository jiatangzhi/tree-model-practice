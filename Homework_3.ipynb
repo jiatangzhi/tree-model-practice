{
 "cells": [
  {
   "cell_type": "markdown",
   "id": "cbc82e3e",
   "metadata": {},
   "source": [
    "## <span style=\"color:red\"> Homework 3 </span>"
   ]
  },
  {
   "cell_type": "markdown",
   "id": "04eb9480",
   "metadata": {},
   "source": [
    "With your toy dataset, now select an appropriate quantitative outcome - the same one you used for the homework on regression or another. <br> \n",
    "All the other variables are to be used as predictors. <br>\n",
    "Be careful: ID variables should not be part of the modeling !\n",
    "\n",
    "### Step 1 : Reading Assignment\n",
    "\n",
    "As usual, the reading assignment is part of the next quiz\n",
    "\n",
    "Read Section 8.2 (pp 343-354) of our Textbook [An Introduction to Statistical Learning - with Applications in Python](https://www.statlearning.com/)\n",
    "\n"
   ]
  },
  {
   "cell_type": "code",
   "execution_count": 2,
   "id": "83b335f8",
   "metadata": {},
   "outputs": [],
   "source": [
    "### Used chatGPT for some help"
   ]
  },
  {
   "cell_type": "markdown",
   "id": "eae4b7f7",
   "metadata": {},
   "source": [
    "### Step 2 : Handling categorical data\n",
    "\n",
    "There are mainly two ways of handling categorical data :\n",
    "\n",
    "1. One-hot encoding (OHE). Use pd.get_dummies or sklearn `OneHotEncoder modules`.<br>\n",
    "    a. First explain what OHE accomplishes, in a small paragraph with its up and down sides.<br>\n",
    "    b. Apply OHE to all of your categorical variables.<br>\n",
    "    \n"
   ]
  },
  {
   "cell_type": "code",
   "execution_count": 10,
   "id": "09bbef79",
   "metadata": {},
   "outputs": [],
   "source": [
    "import pandas as pd"
   ]
  },
  {
   "cell_type": "code",
   "execution_count": 11,
   "id": "e4830e32",
   "metadata": {},
   "outputs": [
    {
     "data": {
      "text/html": [
       "<div>\n",
       "<style scoped>\n",
       "    .dataframe tbody tr th:only-of-type {\n",
       "        vertical-align: middle;\n",
       "    }\n",
       "\n",
       "    .dataframe tbody tr th {\n",
       "        vertical-align: top;\n",
       "    }\n",
       "\n",
       "    .dataframe thead th {\n",
       "        text-align: right;\n",
       "    }\n",
       "</style>\n",
       "<table border=\"1\" class=\"dataframe\">\n",
       "  <thead>\n",
       "    <tr style=\"text-align: right;\">\n",
       "      <th></th>\n",
       "      <th>Name</th>\n",
       "      <th>Description</th>\n",
       "      <th>URL</th>\n",
       "      <th>Created At</th>\n",
       "      <th>Updated At</th>\n",
       "      <th>Homepage</th>\n",
       "      <th>Size</th>\n",
       "      <th>Stars</th>\n",
       "      <th>Forks</th>\n",
       "      <th>Issues</th>\n",
       "      <th>...</th>\n",
       "      <th>Has Issues</th>\n",
       "      <th>Has Projects</th>\n",
       "      <th>Has Downloads</th>\n",
       "      <th>Has Wiki</th>\n",
       "      <th>Has Pages</th>\n",
       "      <th>Has Discussions</th>\n",
       "      <th>Is Fork</th>\n",
       "      <th>Is Archived</th>\n",
       "      <th>Is Template</th>\n",
       "      <th>Default Branch</th>\n",
       "    </tr>\n",
       "  </thead>\n",
       "  <tbody>\n",
       "    <tr>\n",
       "      <th>0</th>\n",
       "      <td>freeCodeCamp</td>\n",
       "      <td>freeCodeCamp.org's open-source codebase and cu...</td>\n",
       "      <td>https://github.com/freeCodeCamp/freeCodeCamp</td>\n",
       "      <td>2014-12-24T17:49:19Z</td>\n",
       "      <td>2023-09-21T11:32:33Z</td>\n",
       "      <td>http://contribute.freecodecamp.org/</td>\n",
       "      <td>387451</td>\n",
       "      <td>374074</td>\n",
       "      <td>33599</td>\n",
       "      <td>248</td>\n",
       "      <td>...</td>\n",
       "      <td>1.0</td>\n",
       "      <td>1.0</td>\n",
       "      <td>1.0</td>\n",
       "      <td>0.0</td>\n",
       "      <td>1.0</td>\n",
       "      <td>0.0</td>\n",
       "      <td>0.0</td>\n",
       "      <td>0.0</td>\n",
       "      <td>0.0</td>\n",
       "      <td>main</td>\n",
       "    </tr>\n",
       "    <tr>\n",
       "      <th>1</th>\n",
       "      <td>free-programming-books</td>\n",
       "      <td>:books: Freely available programming books</td>\n",
       "      <td>https://github.com/EbookFoundation/free-progra...</td>\n",
       "      <td>2013-10-11T06:50:37Z</td>\n",
       "      <td>2023-09-21T11:09:25Z</td>\n",
       "      <td>https://ebookfoundation.github.io/free-program...</td>\n",
       "      <td>17087</td>\n",
       "      <td>298393</td>\n",
       "      <td>57194</td>\n",
       "      <td>46</td>\n",
       "      <td>...</td>\n",
       "      <td>1.0</td>\n",
       "      <td>0.0</td>\n",
       "      <td>1.0</td>\n",
       "      <td>0.0</td>\n",
       "      <td>1.0</td>\n",
       "      <td>0.0</td>\n",
       "      <td>0.0</td>\n",
       "      <td>0.0</td>\n",
       "      <td>0.0</td>\n",
       "      <td>main</td>\n",
       "    </tr>\n",
       "    <tr>\n",
       "      <th>2</th>\n",
       "      <td>awesome</td>\n",
       "      <td>😎 Awesome lists about all kinds of interesting...</td>\n",
       "      <td>https://github.com/sindresorhus/awesome</td>\n",
       "      <td>2014-07-11T13:42:37Z</td>\n",
       "      <td>2023-09-21T11:18:22Z</td>\n",
       "      <td>NaN</td>\n",
       "      <td>1441</td>\n",
       "      <td>269997</td>\n",
       "      <td>26485</td>\n",
       "      <td>61</td>\n",
       "      <td>...</td>\n",
       "      <td>1.0</td>\n",
       "      <td>0.0</td>\n",
       "      <td>1.0</td>\n",
       "      <td>0.0</td>\n",
       "      <td>1.0</td>\n",
       "      <td>0.0</td>\n",
       "      <td>0.0</td>\n",
       "      <td>0.0</td>\n",
       "      <td>0.0</td>\n",
       "      <td>main</td>\n",
       "    </tr>\n",
       "    <tr>\n",
       "      <th>3</th>\n",
       "      <td>996.ICU</td>\n",
       "      <td>Repo for counting stars and contributing. Pres...</td>\n",
       "      <td>https://github.com/996icu/996.ICU</td>\n",
       "      <td>2019-03-26T07:31:14Z</td>\n",
       "      <td>2023-09-21T08:09:01Z</td>\n",
       "      <td>https://996.icu</td>\n",
       "      <td>187799</td>\n",
       "      <td>267901</td>\n",
       "      <td>21497</td>\n",
       "      <td>16712</td>\n",
       "      <td>...</td>\n",
       "      <td>0.0</td>\n",
       "      <td>0.0</td>\n",
       "      <td>1.0</td>\n",
       "      <td>0.0</td>\n",
       "      <td>0.0</td>\n",
       "      <td>0.0</td>\n",
       "      <td>0.0</td>\n",
       "      <td>1.0</td>\n",
       "      <td>0.0</td>\n",
       "      <td>master</td>\n",
       "    </tr>\n",
       "    <tr>\n",
       "      <th>4</th>\n",
       "      <td>coding-interview-university</td>\n",
       "      <td>A complete computer science study plan to beco...</td>\n",
       "      <td>https://github.com/jwasham/coding-interview-un...</td>\n",
       "      <td>2016-06-06T02:34:12Z</td>\n",
       "      <td>2023-09-21T10:54:48Z</td>\n",
       "      <td>NaN</td>\n",
       "      <td>20998</td>\n",
       "      <td>265161</td>\n",
       "      <td>69434</td>\n",
       "      <td>56</td>\n",
       "      <td>...</td>\n",
       "      <td>1.0</td>\n",
       "      <td>0.0</td>\n",
       "      <td>1.0</td>\n",
       "      <td>0.0</td>\n",
       "      <td>0.0</td>\n",
       "      <td>0.0</td>\n",
       "      <td>0.0</td>\n",
       "      <td>0.0</td>\n",
       "      <td>0.0</td>\n",
       "      <td>main</td>\n",
       "    </tr>\n",
       "  </tbody>\n",
       "</table>\n",
       "<p>5 rows × 24 columns</p>\n",
       "</div>"
      ],
      "text/plain": [
       "                          Name  \\\n",
       "0                 freeCodeCamp   \n",
       "1       free-programming-books   \n",
       "2                      awesome   \n",
       "3                      996.ICU   \n",
       "4  coding-interview-university   \n",
       "\n",
       "                                         Description  \\\n",
       "0  freeCodeCamp.org's open-source codebase and cu...   \n",
       "1         :books: Freely available programming books   \n",
       "2  😎 Awesome lists about all kinds of interesting...   \n",
       "3  Repo for counting stars and contributing. Pres...   \n",
       "4  A complete computer science study plan to beco...   \n",
       "\n",
       "                                                 URL            Created At  \\\n",
       "0       https://github.com/freeCodeCamp/freeCodeCamp  2014-12-24T17:49:19Z   \n",
       "1  https://github.com/EbookFoundation/free-progra...  2013-10-11T06:50:37Z   \n",
       "2            https://github.com/sindresorhus/awesome  2014-07-11T13:42:37Z   \n",
       "3                  https://github.com/996icu/996.ICU  2019-03-26T07:31:14Z   \n",
       "4  https://github.com/jwasham/coding-interview-un...  2016-06-06T02:34:12Z   \n",
       "\n",
       "             Updated At                                           Homepage  \\\n",
       "0  2023-09-21T11:32:33Z                http://contribute.freecodecamp.org/   \n",
       "1  2023-09-21T11:09:25Z  https://ebookfoundation.github.io/free-program...   \n",
       "2  2023-09-21T11:18:22Z                                                NaN   \n",
       "3  2023-09-21T08:09:01Z                                    https://996.icu   \n",
       "4  2023-09-21T10:54:48Z                                                NaN   \n",
       "\n",
       "     Size   Stars  Forks  Issues  ...  Has Issues Has Projects Has Downloads  \\\n",
       "0  387451  374074  33599     248  ...         1.0          1.0           1.0   \n",
       "1   17087  298393  57194      46  ...         1.0          0.0           1.0   \n",
       "2    1441  269997  26485      61  ...         1.0          0.0           1.0   \n",
       "3  187799  267901  21497   16712  ...         0.0          0.0           1.0   \n",
       "4   20998  265161  69434      56  ...         1.0          0.0           1.0   \n",
       "\n",
       "  Has Wiki  Has Pages  Has Discussions  Is Fork  Is Archived  Is Template  \\\n",
       "0      0.0        1.0              0.0      0.0          0.0          0.0   \n",
       "1      0.0        1.0              0.0      0.0          0.0          0.0   \n",
       "2      0.0        1.0              0.0      0.0          0.0          0.0   \n",
       "3      0.0        0.0              0.0      0.0          1.0          0.0   \n",
       "4      0.0        0.0              0.0      0.0          0.0          0.0   \n",
       "\n",
       "   Default Branch  \n",
       "0            main  \n",
       "1            main  \n",
       "2            main  \n",
       "3          master  \n",
       "4            main  \n",
       "\n",
       "[5 rows x 24 columns]"
      ]
     },
     "execution_count": 11,
     "metadata": {},
     "output_type": "execute_result"
    }
   ],
   "source": [
    "df = pd.read_csv(\"cleaned_repositories.csv\")\n",
    "df.head()"
   ]
  },
  {
   "cell_type": "code",
   "execution_count": 12,
   "id": "cb2e6fd1",
   "metadata": {},
   "outputs": [
    {
     "name": "stdout",
     "output_type": "stream",
     "text": [
      "<class 'pandas.core.frame.DataFrame'>\n",
      "RangeIndex: 10000 entries, 0 to 9999\n",
      "Data columns (total 24 columns):\n",
      " #   Column           Non-Null Count  Dtype  \n",
      "---  ------           --------------  -----  \n",
      " 0   Name             10000 non-null  object \n",
      " 1   Description      9925 non-null   object \n",
      " 2   URL              10000 non-null  object \n",
      " 3   Created At       10000 non-null  object \n",
      " 4   Updated At       10000 non-null  object \n",
      " 5   Homepage         6067 non-null   object \n",
      " 6   Size             10000 non-null  int64  \n",
      " 7   Stars            10000 non-null  int64  \n",
      " 8   Forks            10000 non-null  int64  \n",
      " 9   Issues           10000 non-null  int64  \n",
      " 10  Watchers         10000 non-null  int64  \n",
      " 11  Language         9104 non-null   object \n",
      " 12  License          8792 non-null   object \n",
      " 13  Topics           10000 non-null  object \n",
      " 14  Has Issues       10000 non-null  float64\n",
      " 15  Has Projects     10000 non-null  float64\n",
      " 16  Has Downloads    10000 non-null  float64\n",
      " 17  Has Wiki         10000 non-null  float64\n",
      " 18  Has Pages        10000 non-null  float64\n",
      " 19  Has Discussions  10000 non-null  float64\n",
      " 20  Is Fork          10000 non-null  float64\n",
      " 21  Is Archived      10000 non-null  float64\n",
      " 22  Is Template      10000 non-null  float64\n",
      " 23  Default Branch   10000 non-null  object \n",
      "dtypes: float64(9), int64(5), object(10)\n",
      "memory usage: 1.8+ MB\n"
     ]
    }
   ],
   "source": [
    "df.info()"
   ]
  },
  {
   "cell_type": "markdown",
   "id": "93b1457a",
   "metadata": {},
   "source": [
    "####  One-hot encoding (OHE)\n",
    "a. One-Hot Encoding (OHE) is a method for converting categorical variables into binary matrix representations. \n",
    "OHE displays each unique label with its own column, containing binary values indicating the presence (1) or absence (0) of the label, as opposed to portraying a categorical variable with a single column of several labels. Categorical data can be understood and used by linear algorithms thanks to this conversion. <br>\n",
    "OHE has the advantages of being simple and straightforward to implement, and it performs better with certain algorithms, particularly when the ordinal relationship is weak or non-linear.<br>\n",
    "Nevertheless, there are disadvantages such as: OHE, particularly for categorical variables with a high number of unique labels, can result in a significant rise in the dimensionality of the dataset. As a result, models may become increasingly complicated and challenging to train, and prone to overfitting. An additional drawback applies to the loss of ordinal relationships, as OHE ignores the potential importance of the original category order."
   ]
  },
  {
   "cell_type": "code",
   "execution_count": 13,
   "id": "626baf22",
   "metadata": {},
   "outputs": [],
   "source": [
    "df_cat = df.select_dtypes(include=['object'])\n",
    "df_num = df.select_dtypes(exclude=['object'])"
   ]
  },
  {
   "cell_type": "code",
   "execution_count": 14,
   "id": "8f45da8d",
   "metadata": {},
   "outputs": [],
   "source": [
    "from sklearn.preprocessing import OneHotEncoder\n",
    "OHE = OneHotEncoder(sparse_output=False)"
   ]
  },
  {
   "cell_type": "code",
   "execution_count": 15,
   "id": "156554e4",
   "metadata": {},
   "outputs": [],
   "source": [
    "df_cat_ohe = pd.DataFrame(OHE.fit_transform(df_cat))\n",
    "df_cat_ohe.columns = OHE.get_feature_names_out()"
   ]
  },
  {
   "cell_type": "code",
   "execution_count": 16,
   "id": "436084fe",
   "metadata": {},
   "outputs": [
    {
     "name": "stdout",
     "output_type": "stream",
     "text": [
      "<class 'pandas.core.frame.DataFrame'>\n",
      "RangeIndex: 10000 entries, 0 to 9999\n",
      "Columns: 62201 entries, Name_.NET-Backend-Developer-Roadmap to Default Branch_自由浏览-3.2.5\n",
      "dtypes: float64(62201)\n",
      "memory usage: 4.6 GB\n"
     ]
    }
   ],
   "source": [
    "df_cat_ohe.info()"
   ]
  },
  {
   "cell_type": "code",
   "execution_count": 17,
   "id": "f4b2069c",
   "metadata": {},
   "outputs": [
    {
     "data": {
      "text/html": [
       "<div>\n",
       "<style scoped>\n",
       "    .dataframe tbody tr th:only-of-type {\n",
       "        vertical-align: middle;\n",
       "    }\n",
       "\n",
       "    .dataframe tbody tr th {\n",
       "        vertical-align: top;\n",
       "    }\n",
       "\n",
       "    .dataframe thead th {\n",
       "        text-align: right;\n",
       "    }\n",
       "</style>\n",
       "<table border=\"1\" class=\"dataframe\">\n",
       "  <thead>\n",
       "    <tr style=\"text-align: right;\">\n",
       "      <th></th>\n",
       "      <th>Name_.NET-Backend-Developer-Roadmap</th>\n",
       "      <th>Name_.tmux</th>\n",
       "      <th>Name_100-Days-Of-ML-Code</th>\n",
       "      <th>Name_100-days-of-code</th>\n",
       "      <th>Name_100-go-mistakes</th>\n",
       "      <th>Name_100days</th>\n",
       "      <th>Name_1024app-android</th>\n",
       "      <th>Name_123-Essential-JavaScript-Interview-Questions</th>\n",
       "      <th>Name_12306</th>\n",
       "      <th>Name_1Panel</th>\n",
       "      <th>...</th>\n",
       "      <th>Default Branch_v5-stable</th>\n",
       "      <th>Default Branch_v7</th>\n",
       "      <th>Default Branch_v7.x</th>\n",
       "      <th>Default Branch_v8.x</th>\n",
       "      <th>Default Branch_vNext</th>\n",
       "      <th>Default Branch_version_component</th>\n",
       "      <th>Default Branch_vxp</th>\n",
       "      <th>Default Branch_wasm</th>\n",
       "      <th>Default Branch_wildfirechat</th>\n",
       "      <th>Default Branch_自由浏览-3.2.5</th>\n",
       "    </tr>\n",
       "  </thead>\n",
       "  <tbody>\n",
       "    <tr>\n",
       "      <th>0</th>\n",
       "      <td>0.0</td>\n",
       "      <td>0.0</td>\n",
       "      <td>0.0</td>\n",
       "      <td>0.0</td>\n",
       "      <td>0.0</td>\n",
       "      <td>0.0</td>\n",
       "      <td>0.0</td>\n",
       "      <td>0.0</td>\n",
       "      <td>0.0</td>\n",
       "      <td>0.0</td>\n",
       "      <td>...</td>\n",
       "      <td>0.0</td>\n",
       "      <td>0.0</td>\n",
       "      <td>0.0</td>\n",
       "      <td>0.0</td>\n",
       "      <td>0.0</td>\n",
       "      <td>0.0</td>\n",
       "      <td>0.0</td>\n",
       "      <td>0.0</td>\n",
       "      <td>0.0</td>\n",
       "      <td>0.0</td>\n",
       "    </tr>\n",
       "    <tr>\n",
       "      <th>1</th>\n",
       "      <td>0.0</td>\n",
       "      <td>0.0</td>\n",
       "      <td>0.0</td>\n",
       "      <td>0.0</td>\n",
       "      <td>0.0</td>\n",
       "      <td>0.0</td>\n",
       "      <td>0.0</td>\n",
       "      <td>0.0</td>\n",
       "      <td>0.0</td>\n",
       "      <td>0.0</td>\n",
       "      <td>...</td>\n",
       "      <td>0.0</td>\n",
       "      <td>0.0</td>\n",
       "      <td>0.0</td>\n",
       "      <td>0.0</td>\n",
       "      <td>0.0</td>\n",
       "      <td>0.0</td>\n",
       "      <td>0.0</td>\n",
       "      <td>0.0</td>\n",
       "      <td>0.0</td>\n",
       "      <td>0.0</td>\n",
       "    </tr>\n",
       "    <tr>\n",
       "      <th>2</th>\n",
       "      <td>0.0</td>\n",
       "      <td>0.0</td>\n",
       "      <td>0.0</td>\n",
       "      <td>0.0</td>\n",
       "      <td>0.0</td>\n",
       "      <td>0.0</td>\n",
       "      <td>0.0</td>\n",
       "      <td>0.0</td>\n",
       "      <td>0.0</td>\n",
       "      <td>0.0</td>\n",
       "      <td>...</td>\n",
       "      <td>0.0</td>\n",
       "      <td>0.0</td>\n",
       "      <td>0.0</td>\n",
       "      <td>0.0</td>\n",
       "      <td>0.0</td>\n",
       "      <td>0.0</td>\n",
       "      <td>0.0</td>\n",
       "      <td>0.0</td>\n",
       "      <td>0.0</td>\n",
       "      <td>0.0</td>\n",
       "    </tr>\n",
       "    <tr>\n",
       "      <th>3</th>\n",
       "      <td>0.0</td>\n",
       "      <td>0.0</td>\n",
       "      <td>0.0</td>\n",
       "      <td>0.0</td>\n",
       "      <td>0.0</td>\n",
       "      <td>0.0</td>\n",
       "      <td>0.0</td>\n",
       "      <td>0.0</td>\n",
       "      <td>0.0</td>\n",
       "      <td>0.0</td>\n",
       "      <td>...</td>\n",
       "      <td>0.0</td>\n",
       "      <td>0.0</td>\n",
       "      <td>0.0</td>\n",
       "      <td>0.0</td>\n",
       "      <td>0.0</td>\n",
       "      <td>0.0</td>\n",
       "      <td>0.0</td>\n",
       "      <td>0.0</td>\n",
       "      <td>0.0</td>\n",
       "      <td>0.0</td>\n",
       "    </tr>\n",
       "    <tr>\n",
       "      <th>4</th>\n",
       "      <td>0.0</td>\n",
       "      <td>0.0</td>\n",
       "      <td>0.0</td>\n",
       "      <td>0.0</td>\n",
       "      <td>0.0</td>\n",
       "      <td>0.0</td>\n",
       "      <td>0.0</td>\n",
       "      <td>0.0</td>\n",
       "      <td>0.0</td>\n",
       "      <td>0.0</td>\n",
       "      <td>...</td>\n",
       "      <td>0.0</td>\n",
       "      <td>0.0</td>\n",
       "      <td>0.0</td>\n",
       "      <td>0.0</td>\n",
       "      <td>0.0</td>\n",
       "      <td>0.0</td>\n",
       "      <td>0.0</td>\n",
       "      <td>0.0</td>\n",
       "      <td>0.0</td>\n",
       "      <td>0.0</td>\n",
       "    </tr>\n",
       "  </tbody>\n",
       "</table>\n",
       "<p>5 rows × 62201 columns</p>\n",
       "</div>"
      ],
      "text/plain": [
       "   Name_.NET-Backend-Developer-Roadmap  Name_.tmux  Name_100-Days-Of-ML-Code  \\\n",
       "0                                  0.0         0.0                       0.0   \n",
       "1                                  0.0         0.0                       0.0   \n",
       "2                                  0.0         0.0                       0.0   \n",
       "3                                  0.0         0.0                       0.0   \n",
       "4                                  0.0         0.0                       0.0   \n",
       "\n",
       "   Name_100-days-of-code  Name_100-go-mistakes  Name_100days  \\\n",
       "0                    0.0                   0.0           0.0   \n",
       "1                    0.0                   0.0           0.0   \n",
       "2                    0.0                   0.0           0.0   \n",
       "3                    0.0                   0.0           0.0   \n",
       "4                    0.0                   0.0           0.0   \n",
       "\n",
       "   Name_1024app-android  Name_123-Essential-JavaScript-Interview-Questions  \\\n",
       "0                   0.0                                                0.0   \n",
       "1                   0.0                                                0.0   \n",
       "2                   0.0                                                0.0   \n",
       "3                   0.0                                                0.0   \n",
       "4                   0.0                                                0.0   \n",
       "\n",
       "   Name_12306  Name_1Panel  ...  Default Branch_v5-stable  Default Branch_v7  \\\n",
       "0         0.0          0.0  ...                       0.0                0.0   \n",
       "1         0.0          0.0  ...                       0.0                0.0   \n",
       "2         0.0          0.0  ...                       0.0                0.0   \n",
       "3         0.0          0.0  ...                       0.0                0.0   \n",
       "4         0.0          0.0  ...                       0.0                0.0   \n",
       "\n",
       "   Default Branch_v7.x  Default Branch_v8.x  Default Branch_vNext  \\\n",
       "0                  0.0                  0.0                   0.0   \n",
       "1                  0.0                  0.0                   0.0   \n",
       "2                  0.0                  0.0                   0.0   \n",
       "3                  0.0                  0.0                   0.0   \n",
       "4                  0.0                  0.0                   0.0   \n",
       "\n",
       "   Default Branch_version_component  Default Branch_vxp  Default Branch_wasm  \\\n",
       "0                               0.0                 0.0                  0.0   \n",
       "1                               0.0                 0.0                  0.0   \n",
       "2                               0.0                 0.0                  0.0   \n",
       "3                               0.0                 0.0                  0.0   \n",
       "4                               0.0                 0.0                  0.0   \n",
       "\n",
       "   Default Branch_wildfirechat  Default Branch_自由浏览-3.2.5  \n",
       "0                          0.0                        0.0  \n",
       "1                          0.0                        0.0  \n",
       "2                          0.0                        0.0  \n",
       "3                          0.0                        0.0  \n",
       "4                          0.0                        0.0  \n",
       "\n",
       "[5 rows x 62201 columns]"
      ]
     },
     "metadata": {
      "transient": {}
     },
     "output_type": "display_data"
    }
   ],
   "source": [
    "display(df_cat_ohe.head())"
   ]
  },
  {
   "cell_type": "code",
   "execution_count": 18,
   "id": "30232af7",
   "metadata": {},
   "outputs": [
    {
     "name": "stdout",
     "output_type": "stream",
     "text": [
      "<class 'pandas.core.frame.DataFrame'>\n",
      "RangeIndex: 10000 entries, 0 to 9999\n",
      "Columns: 62215 entries, Size to Default Branch_自由浏览-3.2.5\n",
      "dtypes: float64(62210), int64(5)\n",
      "memory usage: 4.6 GB\n"
     ]
    },
    {
     "data": {
      "text/html": [
       "<div>\n",
       "<style scoped>\n",
       "    .dataframe tbody tr th:only-of-type {\n",
       "        vertical-align: middle;\n",
       "    }\n",
       "\n",
       "    .dataframe tbody tr th {\n",
       "        vertical-align: top;\n",
       "    }\n",
       "\n",
       "    .dataframe thead th {\n",
       "        text-align: right;\n",
       "    }\n",
       "</style>\n",
       "<table border=\"1\" class=\"dataframe\">\n",
       "  <thead>\n",
       "    <tr style=\"text-align: right;\">\n",
       "      <th></th>\n",
       "      <th>Size</th>\n",
       "      <th>Stars</th>\n",
       "      <th>Forks</th>\n",
       "      <th>Issues</th>\n",
       "      <th>Watchers</th>\n",
       "      <th>Has Issues</th>\n",
       "      <th>Has Projects</th>\n",
       "      <th>Has Downloads</th>\n",
       "      <th>Has Wiki</th>\n",
       "      <th>Has Pages</th>\n",
       "      <th>...</th>\n",
       "      <th>Default Branch_v5-stable</th>\n",
       "      <th>Default Branch_v7</th>\n",
       "      <th>Default Branch_v7.x</th>\n",
       "      <th>Default Branch_v8.x</th>\n",
       "      <th>Default Branch_vNext</th>\n",
       "      <th>Default Branch_version_component</th>\n",
       "      <th>Default Branch_vxp</th>\n",
       "      <th>Default Branch_wasm</th>\n",
       "      <th>Default Branch_wildfirechat</th>\n",
       "      <th>Default Branch_自由浏览-3.2.5</th>\n",
       "    </tr>\n",
       "  </thead>\n",
       "  <tbody>\n",
       "    <tr>\n",
       "      <th>0</th>\n",
       "      <td>387451</td>\n",
       "      <td>374074</td>\n",
       "      <td>33599</td>\n",
       "      <td>248</td>\n",
       "      <td>374074</td>\n",
       "      <td>1.0</td>\n",
       "      <td>1.0</td>\n",
       "      <td>1.0</td>\n",
       "      <td>0.0</td>\n",
       "      <td>1.0</td>\n",
       "      <td>...</td>\n",
       "      <td>0.0</td>\n",
       "      <td>0.0</td>\n",
       "      <td>0.0</td>\n",
       "      <td>0.0</td>\n",
       "      <td>0.0</td>\n",
       "      <td>0.0</td>\n",
       "      <td>0.0</td>\n",
       "      <td>0.0</td>\n",
       "      <td>0.0</td>\n",
       "      <td>0.0</td>\n",
       "    </tr>\n",
       "    <tr>\n",
       "      <th>1</th>\n",
       "      <td>17087</td>\n",
       "      <td>298393</td>\n",
       "      <td>57194</td>\n",
       "      <td>46</td>\n",
       "      <td>298393</td>\n",
       "      <td>1.0</td>\n",
       "      <td>0.0</td>\n",
       "      <td>1.0</td>\n",
       "      <td>0.0</td>\n",
       "      <td>1.0</td>\n",
       "      <td>...</td>\n",
       "      <td>0.0</td>\n",
       "      <td>0.0</td>\n",
       "      <td>0.0</td>\n",
       "      <td>0.0</td>\n",
       "      <td>0.0</td>\n",
       "      <td>0.0</td>\n",
       "      <td>0.0</td>\n",
       "      <td>0.0</td>\n",
       "      <td>0.0</td>\n",
       "      <td>0.0</td>\n",
       "    </tr>\n",
       "    <tr>\n",
       "      <th>2</th>\n",
       "      <td>1441</td>\n",
       "      <td>269997</td>\n",
       "      <td>26485</td>\n",
       "      <td>61</td>\n",
       "      <td>269997</td>\n",
       "      <td>1.0</td>\n",
       "      <td>0.0</td>\n",
       "      <td>1.0</td>\n",
       "      <td>0.0</td>\n",
       "      <td>1.0</td>\n",
       "      <td>...</td>\n",
       "      <td>0.0</td>\n",
       "      <td>0.0</td>\n",
       "      <td>0.0</td>\n",
       "      <td>0.0</td>\n",
       "      <td>0.0</td>\n",
       "      <td>0.0</td>\n",
       "      <td>0.0</td>\n",
       "      <td>0.0</td>\n",
       "      <td>0.0</td>\n",
       "      <td>0.0</td>\n",
       "    </tr>\n",
       "  </tbody>\n",
       "</table>\n",
       "<p>3 rows × 62215 columns</p>\n",
       "</div>"
      ],
      "text/plain": [
       "     Size   Stars  Forks  Issues  Watchers  Has Issues  Has Projects  \\\n",
       "0  387451  374074  33599     248    374074         1.0           1.0   \n",
       "1   17087  298393  57194      46    298393         1.0           0.0   \n",
       "2    1441  269997  26485      61    269997         1.0           0.0   \n",
       "\n",
       "   Has Downloads  Has Wiki  Has Pages  ...  Default Branch_v5-stable  \\\n",
       "0            1.0       0.0        1.0  ...                       0.0   \n",
       "1            1.0       0.0        1.0  ...                       0.0   \n",
       "2            1.0       0.0        1.0  ...                       0.0   \n",
       "\n",
       "   Default Branch_v7  Default Branch_v7.x  Default Branch_v8.x  \\\n",
       "0                0.0                  0.0                  0.0   \n",
       "1                0.0                  0.0                  0.0   \n",
       "2                0.0                  0.0                  0.0   \n",
       "\n",
       "   Default Branch_vNext  Default Branch_version_component  Default Branch_vxp  \\\n",
       "0                   0.0                               0.0                 0.0   \n",
       "1                   0.0                               0.0                 0.0   \n",
       "2                   0.0                               0.0                 0.0   \n",
       "\n",
       "   Default Branch_wasm  Default Branch_wildfirechat  Default Branch_自由浏览-3.2.5  \n",
       "0                  0.0                          0.0                        0.0  \n",
       "1                  0.0                          0.0                        0.0  \n",
       "2                  0.0                          0.0                        0.0  \n",
       "\n",
       "[3 rows x 62215 columns]"
      ]
     },
     "execution_count": 18,
     "metadata": {},
     "output_type": "execute_result"
    }
   ],
   "source": [
    "df_ohe = pd.concat([df_num, df_cat_ohe], axis=1)\n",
    "df_ohe.info()\n",
    "df_ohe.head(3)"
   ]
  },
  {
   "cell_type": "markdown",
   "id": "fcd9325c",
   "metadata": {},
   "source": [
    " 2. Numericalization. Use sklearn LabelEncoder or better yet the method `astype('category')` followed by the attributes `.cat.codes` <br>\n",
    "    a. First explain what numericalization entails with its up and down sides. <br>\n",
    "    b. Apply numericalization on your chosen categorical variables. <br>\n",
    " "
   ]
  },
  {
   "cell_type": "markdown",
   "id": "80be3bbf",
   "metadata": {},
   "source": [
    "a. Numericalization is the process of transforming categorical values or text into numerical representations so that machine learning algorithms can process them. The benefits include preserving dimensionality of the data by mapping each category to an unique integer, using less memory, and accelerating computations because a large matrix of binary values does not require to be processed and stored. \n",
    "<br> The drawbacks are that it imposes an arbitrary order on nominal categories. These numbers could be seen as having an ordinal relationship by machine learning algorithms, which could result in inaccurate model interpretations and predictions. Because categories are represented by a range of values, it can occasionally be more difficult to determine whether particular categories are present in the model or during exploratory.\n",
    "\n",
    "b. "
   ]
  },
  {
   "cell_type": "code",
   "execution_count": 11,
   "id": "f103e033",
   "metadata": {
    "scrolled": true
   },
   "outputs": [
    {
     "name": "stdout",
     "output_type": "stream",
     "text": [
      "   Name  Description   URL  Created At  Updated At  Homepage  Size  Stars  \\\n",
      "0  4482         8343  4248        3377        8461       200  7974   6587   \n",
      "1  4479          176   430        2183        7993      2263  4181   6586   \n",
      "2  2544         9747  8435        2905        8179        -1  1013   6585   \n",
      "3    44         6328    47        7966        5442      1254  7447   6584   \n",
      "4  3379          926  5586        5120        7691        -1  4478   6583   \n",
      "\n",
      "   Forks  Issues  ...  Has Issues  Has Projects  Has Downloads  Has Wiki  \\\n",
      "0   3735     248  ...           1             1              1         0   \n",
      "1   3758      46  ...           1             0              1         0   \n",
      "2   3716      61  ...           1             0              1         0   \n",
      "3   3689    1158  ...           0             0              1         0   \n",
      "4   3761      56  ...           1             0              1         0   \n",
      "\n",
      "   Has Pages  Has Discussions  Is Fork  Is Archived  Is Template  \\\n",
      "0          1                0        0            0            0   \n",
      "1          1                0        0            0            0   \n",
      "2          1                0        0            0            0   \n",
      "3          0                0        0            1            0   \n",
      "4          0                0        0            0            0   \n",
      "\n",
      "   Default Branch  \n",
      "0             128  \n",
      "1             128  \n",
      "2             128  \n",
      "3             131  \n",
      "4             128  \n",
      "\n",
      "[5 rows x 24 columns]\n"
     ]
    }
   ],
   "source": [
    "for col in df:\n",
    "    df[col] = df[col].astype('category').cat.codes\n",
    "\n",
    "print(df.head())"
   ]
  },
  {
   "cell_type": "markdown",
   "id": "4324173d",
   "metadata": {},
   "source": [
    "   \n",
    "### Step 3 : Training models with default parameters\n",
    "\n",
    "1. Use sklearn `train_test_split` to select a training sample and a test sample.\n"
   ]
  },
  {
   "cell_type": "code",
   "execution_count": 12,
   "id": "98d1336d",
   "metadata": {},
   "outputs": [
    {
     "name": "stdout",
     "output_type": "stream",
     "text": [
      "Training set has 8000 samples.\n",
      "Test set has 2000 samples.\n"
     ]
    }
   ],
   "source": [
    "from sklearn.model_selection import train_test_split\n",
    "\n",
    "# features and target. Removed irrelevant columns too\n",
    "X = df.drop(['Created At', 'Updated At', 'Stars'], axis=1)\n",
    "y = df['Stars']\n",
    "\n",
    "# Split data into training and test sets\n",
    "X_train, X_test, y_train, y_test = train_test_split(X, y, test_size=0.2, random_state=42)\n",
    "\n",
    "print(f\"Training set has {X_train.shape[0]} samples.\")\n",
    "print(f\"Test set has {X_test.shape[0]} samples.\")"
   ]
  },
  {
   "cell_type": "markdown",
   "id": "0b13dbee",
   "metadata": {},
   "source": [
    "2. Train at least three differents models (one of them should not be tree-based).\n"
   ]
  },
  {
   "cell_type": "code",
   "execution_count": 14,
   "id": "a0b88330",
   "metadata": {},
   "outputs": [],
   "source": [
    "# Linear Regression Model\n",
    "from sklearn.linear_model import LinearRegression\n",
    "lin_reg = LinearRegression()\n",
    "lin_reg.fit(X_train, y_train)\n",
    "y_pred_lin_reg = lin_reg.predict(X_test)\n",
    "\n",
    "\n",
    "# Decision Tree Regressor\n",
    "from sklearn.tree import DecisionTreeRegressor\n",
    "dt_reg = DecisionTreeRegressor(random_state=42)\n",
    "dt_reg.fit(X_train, y_train)\n",
    "y_pred_dt_reg = dt_reg.predict(X_test)\n",
    "\n",
    "\n",
    "# Random Forest Regressor\n",
    "from sklearn.ensemble import RandomForestRegressor\n",
    "rf_reg = RandomForestRegressor(random_state=42)\n",
    "rf_reg.fit(X_train, y_train)\n",
    "y_pred_rf_reg = rf_reg.predict(X_test)"
   ]
  },
  {
   "cell_type": "markdown",
   "id": "66a712b7",
   "metadata": {},
   "source": [
    "3. Select the appropriate metrics to estimate scores and compare performance between the models.\n"
   ]
  },
  {
   "cell_type": "code",
   "execution_count": 15,
   "id": "48a69293",
   "metadata": {},
   "outputs": [
    {
     "name": "stdout",
     "output_type": "stream",
     "text": [
      "Linear Regression - MAE: 1.2536791911731423e-12, MSE: 2.420456572405097e-24, RMSE: 1.5557816596184366e-12, RMSE%: 5.722436347787713e-14, R2: 1.0\n",
      "Decision Tree - MAE: 1.436, MSE: 4.052, RMSE: 2.012958022413781, RMSE%: 0.07404010763860396, R2: 0.9999989148530418\n",
      "Random Forest - MAE: 0.6090299999999967, MSE: 0.6599384999999941, RMSE: 0.8123659889483275, RMSE%: 0.029880238233458423, R2: 0.9999998232649912\n"
     ]
    }
   ],
   "source": [
    "from sklearn.metrics import mean_absolute_error, mean_squared_error, r2_score\n",
    "import numpy as np\n",
    "\n",
    "def compute_metrics(y_true, y_pred):\n",
    "    mae = mean_absolute_error(y_true, y_pred)\n",
    "    mse = mean_squared_error(y_true, y_pred)\n",
    "    rmse = np.sqrt(mse)\n",
    "    rmse_per_mean = rmse / np.mean(y_true)\n",
    "    r2 = r2_score(y_true, y_pred)\n",
    "    return mae, mse, rmse, rmse_per_mean, r2\n",
    "\n",
    "# Compute metrics for Linear Regression\n",
    "mae_lin, mse_lin, rmse_lin, rmse_per_mean_lin, r2_lin = compute_metrics(y_test, y_pred_lin_reg)\n",
    "print(f\"Linear Regression - MAE: {mae_lin}, MSE: {mse_lin}, RMSE: {rmse_lin}, RMSE: {rmse_per_mean_lin*100}, R2: {r2_lin}\")\n",
    "\n",
    "# Compute metrics for Decision Tree\n",
    "mae_dt, mse_dt, rmse_dt, rmse_per_mean_dt, r2_dt = compute_metrics(y_test, y_pred_dt_reg)\n",
    "print(f\"Decision Tree - MAE: {mae_dt}, MSE: {mse_dt}, RMSE: {rmse_dt}, RMSE: {rmse_per_mean_dt*100}, R2: {r2_dt}\")\n",
    "\n",
    "# Compute metrics for Random Forest\n",
    "mae_rf, mse_rf, rmse_rf, rmse_per_mean_rf, r2_rf = compute_metrics(y_test, y_pred_rf_reg)\n",
    "print(f\"Random Forest - MAE: {mae_rf}, MSE: {mse_rf}, RMSE: {rmse_rf}, RMSE: {rmse_per_mean_rf*100}, R2: {r2_rf}\")\n"
   ]
  },
  {
   "cell_type": "markdown",
   "id": "d66b3d92",
   "metadata": {},
   "source": [
    "Better model performance is shown by lower MAE, MSE, and RMSE values.<br>\n",
    "A higher R2 value suggests that a greater proportion of the variance in the target variable is explained by the model."
   ]
  },
  {
   "cell_type": "markdown",
   "id": "0799d20d",
   "metadata": {},
   "source": [
    "4. Which handling of the categorical data is best ?\n"
   ]
  },
  {
   "cell_type": "markdown",
   "id": "267a7d9e",
   "metadata": {},
   "source": [
    "For nominal data with low cardinality, one-hot encoding is often the best choice. Binary vectors are created via OHE from category variables. It works well in situations when there is no original ordinal relationship between the categories and you cannot assume that there is a numerical relationship between them. Random Forest and other tree-based algorithms work nicely with OHE.\n",
    "\n",
    "For ordinal data, when there is a significant order amongst the categories, label encoding is more appropriate. However, for non-tree-based models, this can be problematic since certain algorithms might interpret the encoded integers as having mathematical significance.\n",
    " \n",
    "\n",
    "For nominal data with high cardinality, methods like binary encoding can be more suitable. The intersection between label and one-hot encoding is binary encoding. Like label encoding, it begins by giving each category a unique integer label. Subsequently it converts each integer into a binary representation by representing these numbers as binary code. This binary code's digits are organised into distinct columns. Compared to one-hot encoding, this method lowers the dimensionality of the data, which makes it especially efficient for categorical data with high cardinality.\n"
   ]
  },
  {
   "cell_type": "markdown",
   "id": "7b83c46b",
   "metadata": {},
   "source": [
    "\n",
    "### Step 4 : Tuning model\n",
    "\n",
    "1. Select the best model among the previous ones and do sequential tuning (one parameter at a time with a plot) on at least two of the parameters. <br>"
   ]
  },
  {
   "cell_type": "code",
   "execution_count": 22,
   "id": "aa68ecd7",
   "metadata": {
    "scrolled": true
   },
   "outputs": [
    {
     "data": {
      "image/png": "[encoded data removed]",
      "text/plain": [
       "<Figure size 720x360 with 1 Axes>"
      ]
     },
     "metadata": {
      "needs_background": "light"
     },
     "output_type": "display_data"
    },
    {
     "data": {
      "image/png": "[encoded data removed]",
      "text/plain": [
       "<Figure size 720x360 with 1 Axes>"
      ]
     },
     "metadata": {
      "needs_background": "light"
     },
     "output_type": "display_data"
    }
   ],
   "source": [
    "import matplotlib.pyplot as plt\n",
    "\n",
    "# Define the hyperparameter values to be tested for n_estimators\n",
    "n_estimators_range = [10, 50, 100, 200, 300, 500]\n",
    "mse_scores_estimators = []\n",
    "\n",
    "for n in n_estimators_range:\n",
    "    rf = RandomForestRegressor(n_estimators=n, random_state=42)\n",
    "    rf.fit(X_train, y_train)\n",
    "    y_pred = rf.predict(X_test)\n",
    "    mse_scores_estimators.append(mean_squared_error(y_test, y_pred))\n",
    "\n",
    "# Plotting the results for n_estimators\n",
    "plt.figure(figsize=(10,5))\n",
    "plt.plot(n_estimators_range, mse_scores_estimators, marker='o', linestyle='--')\n",
    "plt.xlabel('n_estimators')\n",
    "plt.ylabel('Mean Squared Error')\n",
    "plt.title('Performance vs. n_estimators')\n",
    "plt.show()\n",
    "\n",
    "best_n_estimators = n_estimators_range[np.argmin(mse_scores_estimators)]\n",
    "\n",
    "# Tune max_depth using the best n_estimators value\n",
    "max_depth_range = [-1, 10, 20, 30, 40, 50]  # -1 as a placeholder for None\n",
    "mse_scores_depth = []\n",
    "\n",
    "for depth in max_depth_range:\n",
    "    if depth == -1:\n",
    "        depth_value = None\n",
    "    else:\n",
    "        depth_value = depth\n",
    "        \n",
    "    rf = RandomForestRegressor(n_estimators=best_n_estimators, max_depth=depth_value, random_state=42)\n",
    "    rf.fit(X_train, y_train)\n",
    "    y_pred = rf.predict(X_test)\n",
    "    mse_scores_depth.append(mean_squared_error(y_test, y_pred))\n",
    "\n",
    "# Plotting the results for max_depth\n",
    "plt.figure(figsize=(10,5))\n",
    "plt.plot(max_depth_range, mse_scores_depth, marker='o', linestyle='--')\n",
    "plt.xlabel('max_depth')\n",
    "plt.ylabel('Mean Squared Error')\n",
    "plt.title('Performance vs. max_depth')\n",
    "plt.xticks(max_depth_range, ['None' if depth == -1 else depth for depth in max_depth_range])\n",
    "plt.show()\n",
    "\n",
    "best_max_depth = max_depth_range[np.argmin(mse_scores_depth)]\n",
    "if best_max_depth == -1:\n",
    "    best_max_depth = None\n"
   ]
  },
  {
   "cell_type": "markdown",
   "id": "5569ad00",
   "metadata": {},
   "source": [
    "    a. Print the values of the best parameters "
   ]
  },
  {
   "cell_type": "code",
   "execution_count": 23,
   "id": "11d978fc",
   "metadata": {},
   "outputs": [
    {
     "name": "stdout",
     "output_type": "stream",
     "text": [
      "The best value for n_estimators is: 500\n",
      "The best value for max_depth is: None (full expansion)\n"
     ]
    }
   ],
   "source": [
    "print(f\"The best value for n_estimators is: {best_n_estimators}\")\n",
    "print(f\"The best value for max_depth is: {best_max_depth if best_max_depth is not None else 'None (full expansion)'}\")"
   ]
  },
  {
   "cell_type": "markdown",
   "id": "9673dc59",
   "metadata": {},
   "source": [
    "When additional estimators are introduced, performance initially becomes better, although eventually the returns start to diminish. The MSE steadily decreases as the number of trees grow (from 0 to about 100).\n",
    "The increase in MSE plateaus and slows down after about 100 trees. This implies that the model's performance fails to grow significantly with more trees added after a certain point."
   ]
  },
  {
   "cell_type": "markdown",
   "id": "ac62742d",
   "metadata": {},
   "source": [
    "     b. Give the score of the tuned model on the test set "
   ]
  },
  {
   "cell_type": "code",
   "execution_count": 24,
   "id": "ad467474",
   "metadata": {},
   "outputs": [
    {
     "name": "stdout",
     "output_type": "stream",
     "text": [
      "Performance of the tuned model on the test set:\n",
      "Mean Squared Error (MSE): 0.594\n",
      "Root Mean Squared Error (RMSE): 0.771\n",
      "Mean Absolute Error (MAE): 0.583\n",
      "R-squared (R2): 1.000\n"
     ]
    }
   ],
   "source": [
    "# Train Random Forest with the best hyperparameters\n",
    "tuned_rf = RandomForestRegressor(n_estimators=best_n_estimators, max_depth=best_max_depth, random_state=42)\n",
    "tuned_rf.fit(X_train, y_train)\n",
    "y_pred_tuned = tuned_rf.predict(X_test)\n",
    "\n",
    "# Evaluate the tuned model\n",
    "mse = mean_squared_error(y_test, y_pred_tuned)\n",
    "mae = mean_absolute_error(y_test, y_pred_tuned)\n",
    "rmse = np.sqrt(mse)\n",
    "r2 = r2_score(y_test, y_pred_tuned)\n",
    "\n",
    "# Print the results\n",
    "print(f\"Performance of the tuned model on the test set:\")\n",
    "print(f\"Mean Squared Error (MSE): {mse:.3f}\")\n",
    "print(f\"Root Mean Squared Error (RMSE): {rmse:.3f}\")\n",
    "print(f\"Mean Absolute Error (MAE): {mae:.3f}\")\n",
    "print(f\"R-squared (R2): {r2:.3f}\")"
   ]
  },
  {
   "cell_type": "markdown",
   "id": "ff2ae398",
   "metadata": {},
   "source": [
    "2. Use `GridSearchCV` or `RandomizedSearchCV` from sklearn to tune 2 or more parameters <br>\n",
    "    a. Print the best parameters <br>\n",
    "    "
   ]
  },
  {
   "cell_type": "code",
   "execution_count": 28,
   "id": "0ea04ab4",
   "metadata": {},
   "outputs": [
    {
     "name": "stdout",
     "output_type": "stream",
     "text": [
      "Fitting 5 folds for each of 100 candidates, totalling 500 fits\n",
      "Best Parameters:\n",
      "{'max_depth': 29, 'n_estimators': 494}\n"
     ]
    }
   ],
   "source": [
    "from sklearn.model_selection import RandomizedSearchCV\n",
    "from scipy.stats import randint\n",
    "\n",
    "# Define the parameter grid\n",
    "param_dist = {\n",
    "    'n_estimators': randint(10, 500),\n",
    "    'max_depth': [None] + list(range(1, 51))\n",
    "}\n",
    "\n",
    "# Instantiate the RandomizedSearchCV object\n",
    "random_search = RandomizedSearchCV(RandomForestRegressor(random_state=42), \n",
    "                                   param_distributions=param_dist,\n",
    "                                   n_iter=100, \n",
    "                                   cv=5, \n",
    "                                   verbose=1, \n",
    "                                   n_jobs=-1, \n",
    "                                   random_state=42)\n",
    "\n",
    "# Fit the data to the RandomizedSearchCV object\n",
    "random_search.fit(X_train, y_train)\n",
    "\n",
    "# Print the best parameters\n",
    "print(\"Best Parameters:\")\n",
    "print(random_search.best_params_)\n"
   ]
  },
  {
   "cell_type": "markdown",
   "id": "5dbbb685",
   "metadata": {},
   "source": [
    "    b. Save the best model and print its score on the test set \n"
   ]
  },
  {
   "cell_type": "code",
   "execution_count": 26,
   "id": "3b3c67f4",
   "metadata": {},
   "outputs": [
    {
     "name": "stdout",
     "output_type": "stream",
     "text": [
      "Model saved as best_random_forest_model.pkl\n",
      "Mean Squared Error on Test Set: 0.5946\n",
      "R^2 Score on Test Set: 1.0000\n"
     ]
    }
   ],
   "source": [
    "from sklearn.metrics import mean_squared_error, r2_score\n",
    "import joblib\n",
    "\n",
    "# Save the best model\n",
    "best_rf_model = random_search.best_estimator_\n",
    "\n",
    "# Save the model to a file\n",
    "filename = 'best_random_forest_model.pkl'\n",
    "joblib.dump(best_rf_model, filename)\n",
    "print(f\"Model saved as {filename}\")\n",
    "\n",
    "# Predict using the best model on test set\n",
    "y_pred = best_rf_model.predict(X_test)\n",
    "\n",
    "# Print its score on the test set\n",
    "mse = mean_squared_error(y_test, y_pred)\n",
    "r2 = r2_score(y_test, y_pred)\n",
    "\n",
    "print(f\"Mean Squared Error on Test Set: {mse:.4f}\")\n",
    "print(f\"R^2 Score on Test Set: {r2:.4f}\")"
   ]
  },
  {
   "cell_type": "code",
   "execution_count": null,
   "id": "823a2d39",
   "metadata": {},
   "outputs": [],
   "source": []
  }
 ],
 "metadata": {
  "kernelspec": {
   "display_name": "Python 3 (ipykernel)",
   "language": "python",
   "name": "python3"
  },
  "language_info": {
   "codemirror_mode": {
    "name": "ipython",
    "version": 3
   },
   "file_extension": ".py",
   "mimetype": "text/x-python",
   "name": "python",
   "nbconvert_exporter": "python",
   "pygments_lexer": "ipython3",
   "version": "3.9.7"
  }
 },
 "nbformat": 4,
 "nbformat_minor": 5
}
